import requests

url = "https://e318e80a567d.ngrok-free.app/predict"

precos = [2.23 + i*0.01 for i in range(60)]

data = {
    "prices": precos
}

response = requests.post(url, json=data)

print("Status code:", response.status_code)
print("Response:", response.json())
